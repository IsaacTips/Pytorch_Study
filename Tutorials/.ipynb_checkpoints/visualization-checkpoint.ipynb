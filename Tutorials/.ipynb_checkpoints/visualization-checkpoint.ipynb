{
 "cells": [
  {
   "cell_type": "markdown",
   "id": "b3b200bc",
   "metadata": {},
   "source": [
    "# TENSORBOARD로 모델, 데이터, 학습 시각화하기"
   ]
  },
  {
   "cell_type": "markdown",
   "id": "3fae0544",
   "metadata": {},
   "source": [
    "## 배울 것들\n",
    "\n",
    "1. 데이터를 읽고 적절히 변환합니다.\n",
    "2. TensorBoard를 설정(set up)합니다.\n",
    "3. TensorBoard에 기록(write)합니다.\n",
    "4. TensorBoard를 사용하여 모델 구조를 살펴봅니다.\n",
    "5. 약간의 코드를 추가하여 TensorBoard에서 이전 튜토리얼에서 만든 시각화의 대화식(interactive) 버전을 만듭니다.\n",
    "    - 학습 데이터를 검사(inspect)하는 몇 가지 방법\n",
    "    - 학습에 따른 모델의 성능을 추적(track)하는 방법\n",
    "    - 학습이 완료된 모델의 성능을 평가(assess)하는 방법"
   ]
  },
  {
   "cell_type": "code",
   "execution_count": 1,
   "id": "93fac349",
   "metadata": {
    "ExecuteTime": {
     "end_time": "2021-06-03T05:46:18.841576Z",
     "start_time": "2021-06-03T05:46:16.663082Z"
    }
   },
   "outputs": [],
   "source": [
    "import tensorflow as tf\n",
    "import tensorboard as tb\n",
    "tf.io.gfile = tb.compat.tensorflow_stub.io.gfile"
   ]
  },
  {
   "cell_type": "code",
   "execution_count": 2,
   "id": "e7f8d3bb",
   "metadata": {
    "ExecuteTime": {
     "end_time": "2021-06-03T05:46:19.684485Z",
     "start_time": "2021-06-03T05:46:18.842903Z"
    }
   },
   "outputs": [],
   "source": [
    "# imports\n",
    "import matplotlib.pyplot as plt\n",
    "import numpy as np\n",
    "\n",
    "import torch\n",
    "import torchvision\n",
    "import torchvision.transforms as transforms\n",
    "\n",
    "import torch.nn as nn\n",
    "import torch.nn.functional as F\n",
    "import torch.optim as optim\n",
    "\n",
    "# transforms\n",
    "transform = transforms.Compose(\n",
    "    [transforms.ToTensor(),\n",
    "    transforms.Normalize((0.5,), (0.5,))])\n",
    "\n",
    "# datasets\n",
    "trainset = torchvision.datasets.FashionMNIST('./data',\n",
    "    download=True,\n",
    "    train=True,\n",
    "    transform=transform)\n",
    "testset = torchvision.datasets.FashionMNIST('./data',\n",
    "    download=True,\n",
    "    train=False,\n",
    "    transform=transform)\n",
    "\n",
    "# dataloaders\n",
    "trainloader = torch.utils.data.DataLoader(trainset, batch_size=4,\n",
    "                                        shuffle=True, num_workers=2)\n",
    "\n",
    "\n",
    "testloader = torch.utils.data.DataLoader(testset, batch_size=4,\n",
    "                                        shuffle=False, num_workers=2)\n",
    "\n",
    "# 분류 결과를 위한 상수\n",
    "classes = ('T-shirt/top', 'Trouser', 'Pullover', 'Dress', 'Coat',\n",
    "        'Sandal', 'Shirt', 'Sneaker', 'Bag', 'Ankle Boot')\n",
    "\n",
    "# 이미지를 보여주기 위한 헬퍼(helper) 함수\n",
    "# (아래 `plot_classes_preds` 함수에서 사용)\n",
    "def matplotlib_imshow(img, one_channel=False):\n",
    "    if one_channel:\n",
    "        img = img.mean(dim=0)\n",
    "    img = img / 2 + 0.5     # unnormalize\n",
    "    npimg = img.numpy()\n",
    "    if one_channel:\n",
    "        plt.imshow(npimg, cmap=\"Greys\")\n",
    "    else:\n",
    "        plt.imshow(np.transpose(npimg, (1, 2, 0)))"
   ]
  },
  {
   "cell_type": "markdown",
   "id": "dec3e8ef",
   "metadata": {},
   "source": [
    "이전 튜토리얼과 유사한 모델 구조를 정의하되, 이미지의 채널이 3개에서 1개로, 크기가 32x32에서 28x28로 변경된 것을 적용할 수 있도록 약간만 수정하겠습니다."
   ]
  },
  {
   "cell_type": "code",
   "execution_count": 3,
   "id": "2cbe43e0",
   "metadata": {
    "ExecuteTime": {
     "end_time": "2021-06-03T05:46:19.696606Z",
     "start_time": "2021-06-03T05:46:19.686067Z"
    }
   },
   "outputs": [],
   "source": [
    "class Net(nn.Module):\n",
    "    def __init__(self):\n",
    "        super(Net, self).__init__()\n",
    "        self.conv1 = nn.Conv2d(1, 6, 5)\n",
    "        self.pool = nn.MaxPool2d(2, 2)\n",
    "        self.conv2 = nn.Conv2d(6, 16, 5)\n",
    "        self.fc1 = nn.Linear(16 * 4 * 4, 120)\n",
    "        self.fc2 = nn.Linear(120, 84)\n",
    "        self.fc3 = nn.Linear(84, 10)\n",
    "\n",
    "    def forward(self, x):\n",
    "        x = self.pool(F.relu(self.conv1(x)))\n",
    "        x = self.pool(F.relu(self.conv2(x)))\n",
    "        x = x.view(-1, 16 * 4 * 4)\n",
    "        x = F.relu(self.fc1(x))\n",
    "        x = F.relu(self.fc2(x))\n",
    "        x = self.fc3(x)\n",
    "        return x\n",
    "\n",
    "\n",
    "net = Net()"
   ]
  },
  {
   "cell_type": "markdown",
   "id": "f9485a1c",
   "metadata": {},
   "source": [
    "동일한 optimizer 와 criterion 을 정의합니다:"
   ]
  },
  {
   "cell_type": "code",
   "execution_count": 4,
   "id": "4e111de0",
   "metadata": {
    "ExecuteTime": {
     "end_time": "2021-06-03T05:46:19.700760Z",
     "start_time": "2021-06-03T05:46:19.698112Z"
    }
   },
   "outputs": [],
   "source": [
    "criterion = nn.CrossEntropyLoss()\n",
    "optimizer = optim.SGD(net.parameters(), lr=0.001, momentum=0.9)"
   ]
  },
  {
   "cell_type": "markdown",
   "id": "f851deaf",
   "metadata": {},
   "source": [
    "### 1. TensorBoard 설정\n",
    "이제 torch.utils 의 tensorboard 를 불러오고, TensorBoard에 정보를 제공(write)하는 SummaryWriter 를 주요한 객체인 SummaryWriter 를 정의하여 TensorBoard를 설정합니다."
   ]
  },
  {
   "cell_type": "code",
   "execution_count": 5,
   "id": "b0b3d827",
   "metadata": {
    "ExecuteTime": {
     "end_time": "2021-06-03T05:46:19.713395Z",
     "start_time": "2021-06-03T05:46:19.702330Z"
    }
   },
   "outputs": [],
   "source": [
    "from torch.utils.tensorboard import SummaryWriter\n",
    "\n",
    "# 기본 `log_dir` 은 \"runs\"이며, 여기서는 더 구체적으로 지정하였습니다\n",
    "writer = SummaryWriter('runs/fashion_mnist_experiment_1')"
   ]
  },
  {
   "cell_type": "markdown",
   "id": "3d79fd95",
   "metadata": {},
   "source": [
    "위 행(line)은 runs/fashion_mnist_experiment_1 폴더를 생성합니다."
   ]
  },
  {
   "cell_type": "markdown",
   "id": "9b874e1b",
   "metadata": {},
   "source": [
    "### 2. TensorBoard에 기록하기\n",
    "이제 TensorBoard에 이미지(구체적으로는 make_grid 를 사용하여 그리드(grid))를 써보겠습니다."
   ]
  },
  {
   "cell_type": "code",
   "execution_count": 6,
   "id": "f1067d35",
   "metadata": {
    "ExecuteTime": {
     "end_time": "2021-06-03T05:46:19.920043Z",
     "start_time": "2021-06-03T05:46:19.715033Z"
    }
   },
   "outputs": [
    {
     "data": {
      "image/png": "[encoded data removed]",
      "text/plain": [
       "<Figure size 432x288 with 1 Axes>"
      ]
     },
     "metadata": {
      "needs_background": "light"
     },
     "output_type": "display_data"
    }
   ],
   "source": [
    "# 임의의 학습 이미지를 가져옵니다\n",
    "dataiter = iter(trainloader)\n",
    "images, labels = dataiter.next()\n",
    "\n",
    "# 이미지 그리드를 만듭니다.\n",
    "img_grid = torchvision.utils.make_grid(images)\n",
    "\n",
    "# 이미지를 보여줍니다.\n",
    "matplotlib_imshow(img_grid, one_channel=True)\n",
    "\n",
    "# tensorboard에 기록합니다.\n",
    "writer.add_image('four_fashion_mnist_images', img_grid)"
   ]
  },
  {
   "cell_type": "markdown",
   "id": "f1ec2429",
   "metadata": {},
   "source": [
    "이제 명령줄(command line)에서"
   ]
  },
  {
   "cell_type": "code",
   "execution_count": 7,
   "id": "c4d28b2b",
   "metadata": {
    "ExecuteTime": {
     "end_time": "2021-06-03T05:46:19.923288Z",
     "start_time": "2021-06-03T05:46:19.921290Z"
    }
   },
   "outputs": [],
   "source": [
    "# ! tensorboard --logdir=runs"
   ]
  },
  {
   "cell_type": "markdown",
   "id": "74f552dd",
   "metadata": {},
   "source": [
    "## 3. TensorBoard를 사용하여 모델 살펴보기(inspect)\n",
    "TensorBoard의 강점 중 하나는 복잡한 모델 구조를 시각화하는 기능입니다. 지금까지 만든 모델을 시각화해보겠습니다."
   ]
  },
  {
   "cell_type": "code",
   "execution_count": 8,
   "id": "0a1f84a3",
   "metadata": {
    "ExecuteTime": {
     "end_time": "2021-06-03T05:46:20.053338Z",
     "start_time": "2021-06-03T05:46:19.925201Z"
    }
   },
   "outputs": [],
   "source": [
    "writer.add_graph(net, images)\n",
    "writer.close()"
   ]
  },
  {
   "cell_type": "markdown",
   "id": "2cd0ecf5",
   "metadata": {},
   "source": [
    "TensorBoard를 새로고침(refresh)하면 아래와 같이 “Graphs” 탭을 볼 수 있습니다."
   ]
  },
  {
   "cell_type": "markdown",
   "id": "f0e93ba7",
   "metadata": {},
   "source": [
    "아래에서 “Net”을 더블클릭하여 펼쳐보면, 모델을 구성하는 개별 연산(operation)들에 대해 자세히 볼 수 있습니다."
   ]
  },
  {
   "cell_type": "markdown",
   "id": "8030ce35",
   "metadata": {},
   "source": [
    "## 4. TensorBoard에 “Projector” 추가하기\n",
    "add_embedding 메소드(method)를 통해 고차원 데이터의 저차원 표현(representation)을 시각화할 수 있습니다."
   ]
  },
  {
   "cell_type": "code",
   "execution_count": 9,
   "id": "f1f9a3b7",
   "metadata": {
    "ExecuteTime": {
     "end_time": "2021-06-03T05:46:20.129525Z",
     "start_time": "2021-06-03T05:46:20.054673Z"
    }
   },
   "outputs": [
    {
     "name": "stdout",
     "output_type": "stream",
     "text": [
      "warning: Embedding dir exists, did you set global_step for add_embedding()?\n"
     ]
    }
   ],
   "source": [
    "# 헬퍼(helper) 함수\n",
    "def select_n_random(data, labels, n=100):\n",
    "    '''\n",
    "    데이터셋에서 n개의 임의의 데이터포인트(datapoint)와 그에 해당하는 라벨을 선택합니다\n",
    "    '''\n",
    "    assert len(data) == len(labels)\n",
    "\n",
    "    perm = torch.randperm(len(data))\n",
    "    return data[perm][:n], labels[perm][:n]\n",
    "\n",
    "# 임의의 이미지들과 정답(target) 인덱스를 선택합니다\n",
    "images, labels = select_n_random(trainset.data, trainset.targets)\n",
    "\n",
    "# 각 이미지의 분류 라벨(class label)을 가져옵니다\n",
    "class_labels = [classes[lab] for lab in labels]\n",
    "\n",
    "# 임베딩(embedding) 내역을 기록합니다\n",
    "features = images.view(-1, 28 * 28)\n",
    "writer.add_embedding(features,\n",
    "                    metadata=class_labels,\n",
    "                    label_img=images.unsqueeze(1))\n",
    "writer.close()"
   ]
  },
  {
   "cell_type": "markdown",
   "id": "cfb3e4b5",
   "metadata": {},
   "source": [
    "이제 TensorBoard의 “Projector” 탭에서 - 각각은 784 차원인 - 100개의 이미지가 3차원 공간에 투사(project)된 것을 볼 수 있습니다. 또한, 이것은 대화식입니다: 클릭하고 드래그(drag)하여 3차원으로 투영된 것을 회전할 수 있습니다. 마지막으로 시각화를 더 편히 볼 수 있는 몇 가지 팁이 있습니다: 좌측 상단에서 “Color by: label”을 선택하고, “야간모드(night mode)”를 활성화하면 이미지 배경이 흰색이 되어 더 편하게 볼 수 있습니다:"
   ]
  },
  {
   "cell_type": "markdown",
   "id": "850fe1d8",
   "metadata": {},
   "source": [
    "## 5. TensorBoard로 모델 학습 추적하기\n",
    "이전 예제에서는 단순히 모델 학습 중 손실(running loss)을 2000번 반복할 때마다 출력 하기만 했습니다. 이제 TensorBoard에 학습 중 손실을 기록하는 것 대신에 plot_classes_preds 함수를 통해 모델의 예측 결과를 함께 볼 수 있도록 하겠습니다."
   ]
  },
  {
   "cell_type": "code",
   "execution_count": 10,
   "id": "0db0cf22",
   "metadata": {
    "ExecuteTime": {
     "end_time": "2021-06-03T05:46:20.135556Z",
     "start_time": "2021-06-03T05:46:20.130608Z"
    }
   },
   "outputs": [],
   "source": [
    "# 헬퍼 함수\n",
    "\n",
    "def images_to_probs(net, images):\n",
    "    '''\n",
    "    학습된 신경망과 이미지 목록으로부터 예측 결과 및 확률을 생성합니다\n",
    "    '''\n",
    "    output = net(images)\n",
    "    # convert output probabilities to predicted class\n",
    "    _, preds_tensor = torch.max(output, 1)\n",
    "    preds = np.squeeze(preds_tensor.numpy())\n",
    "    return preds, [F.softmax(el, dim=0)[i].item() for i, el in zip(preds, output)]\n",
    "\n",
    "\n",
    "def plot_classes_preds(net, images, labels):\n",
    "    '''\n",
    "    학습된 신경망과 배치로부터 가져온 이미지 / 라벨을 사용하여 matplotlib\n",
    "    Figure를 생성합니다. 이는 신경망의 예측 결과 / 확률과 함께 정답을 보여주며,\n",
    "    예측 결과가 맞았는지 여부에 따라 색을 다르게 표시합니다. \"images_to_probs\"\n",
    "    함수를 사용합니다.\n",
    "    '''\n",
    "    preds, probs = images_to_probs(net, images)\n",
    "    # 배치에서 이미지를 가져와 예측 결과 / 정답과 함께 표시(plot)합니다\n",
    "    fig = plt.figure(figsize=(12, 48))\n",
    "    for idx in np.arange(4):\n",
    "        ax = fig.add_subplot(1, 4, idx+1, xticks=[], yticks=[])\n",
    "        matplotlib_imshow(images[idx], one_channel=True)\n",
    "        ax.set_title(\"{0}, {1:.1f}%\\n(label: {2})\".format(\n",
    "            classes[preds[idx]],\n",
    "            probs[idx] * 100.0,\n",
    "            classes[labels[idx]]),\n",
    "                    color=(\"green\" if preds[idx]==labels[idx].item() else \"red\"))\n",
    "    return fig\n"
   ]
  },
  {
   "cell_type": "markdown",
   "id": "e824245f",
   "metadata": {},
   "source": [
    "마지막으로, 이전 튜토리얼과 동일한 모델 학습 코드에서 1000 배치마다 콘솔에 출력하는 대신에 TensorBoard에 결과를 기록하도록 하여 학습을 해보겠습니다; 이는 add_scalar 함수를 사용합니다.\n",
    "\n",
    "또한, 학습을 진행하면서 배치에 포함된 4개의 이미지에 대한 모델의 예측 결과와 정답을 비교(versus)하여 보여주는 이미지를 생성하도록 하겠습니다."
   ]
  },
  {
   "cell_type": "code",
   "execution_count": 11,
   "id": "6478b079",
   "metadata": {
    "ExecuteTime": {
     "end_time": "2021-06-03T05:46:58.650041Z",
     "start_time": "2021-06-03T05:46:20.136741Z"
    }
   },
   "outputs": [
    {
     "name": "stdout",
     "output_type": "stream",
     "text": [
      "Finished Training\n"
     ]
    }
   ],
   "source": [
    "running_loss = 0.0\n",
    "for epoch in range(1):  # 데이터셋을 여러번 반복\n",
    "\n",
    "    for i, data in enumerate(trainloader, 0):\n",
    "\n",
    "        # [inputs, labels]의 목록인 data로부터 입력을 받은 후;\n",
    "        inputs, labels = data\n",
    "\n",
    "        # 변화도(Gradient) 매개변수를 0으로 만들고\n",
    "        optimizer.zero_grad()\n",
    "\n",
    "        # 순전파 + 역전파 + 최적화를 한 후\n",
    "        outputs = net(inputs)\n",
    "        loss = criterion(outputs, labels)\n",
    "        loss.backward()\n",
    "        optimizer.step()\n",
    "\n",
    "        running_loss += loss.item()\n",
    "        if i % 1000 == 999:    # 매 1000 미니배치마다...\n",
    "\n",
    "            # ...학습 중 손실(running loss)을 기록하고\n",
    "            writer.add_scalar('training loss',\n",
    "                            running_loss / 1000,\n",
    "                            epoch * len(trainloader) + i)\n",
    "\n",
    "            # ...무작위 미니배치(mini-batch)에 대한 모델의 예측 결과를 보여주도록\n",
    "            # Matplotlib Figure를 기록합니다\n",
    "            writer.add_figure('predictions vs. actuals',\n",
    "                            plot_classes_preds(net, inputs, labels),\n",
    "                            global_step=epoch * len(trainloader) + i)\n",
    "            running_loss = 0.0\n",
    "print('Finished Training')"
   ]
  },
  {
   "cell_type": "markdown",
   "id": "6664960c",
   "metadata": {},
   "source": [
    "이제 ‘Scalars’ 탭에서 15,000번 반복 학습할 때의 손실을 확인할 수 있습니다:"
   ]
  },
  {
   "cell_type": "markdown",
   "id": "00d1803c",
   "metadata": {},
   "source": [
    "또한, 학습 과정 전반에 걸쳐 임의의 배치에 대한 모델의 예측 결과를 확인할 수 있습니다. “Images” 탭에서 스크롤을 내려 “예측 vs. 정답(predictions vs. actuals)” 시각화 부분에서 이 내용을 볼 수 있습니다; 예를 들어 학습을 단지 3000번 반복하기만 해도, 신뢰도는 높진 않지만, 모델은 셔츠와 운동화(sneakers), 코트와 같은 분류들을 구분할 수 있었습니다"
   ]
  },
  {
   "cell_type": "markdown",
   "id": "23463555",
   "metadata": {},
   "source": [
    "## 6. TensorBoard로 학습된 모델 평가하기"
   ]
  },
  {
   "cell_type": "code",
   "execution_count": 12,
   "id": "04195fb4",
   "metadata": {
    "ExecuteTime": {
     "end_time": "2021-06-03T05:47:01.730609Z",
     "start_time": "2021-06-03T05:46:58.651497Z"
    }
   },
   "outputs": [],
   "source": [
    "# 1. 예측 확률을 test_size x num_classes 텐서로 가져옵니다\n",
    "# 2. 예측 결과를 test_size 텐서로 가져옵니다\n",
    "# 실행하는데 10초 이하 소요\n",
    "class_probs = []\n",
    "class_preds = []\n",
    "with torch.no_grad():\n",
    "    for data in testloader:\n",
    "        images, labels = data\n",
    "        output = net(images)\n",
    "        class_probs_batch = [F.softmax(el, dim=0) for el in output]\n",
    "        _, class_preds_batch = torch.max(output, 1)\n",
    "\n",
    "        class_probs.append(class_probs_batch)\n",
    "        class_preds.append(class_preds_batch)\n",
    "\n",
    "test_probs = torch.cat([torch.stack(batch) for batch in class_probs])\n",
    "test_preds = torch.cat(class_preds)\n",
    "\n",
    "# 헬퍼 함수\n",
    "def add_pr_curve_tensorboard(class_index, test_probs, test_preds, global_step=0):\n",
    "    '''\n",
    "    0부터 9까지의 \"class_index\"를 가져온 후 해당 정밀도-재현율(precision-recall)\n",
    "    곡선을 그립니다\n",
    "    '''\n",
    "    tensorboard_preds = test_preds == class_index\n",
    "    tensorboard_probs = test_probs[:, class_index]\n",
    "\n",
    "    writer.add_pr_curve(classes[class_index],\n",
    "                        tensorboard_preds,\n",
    "                        tensorboard_probs,\n",
    "                        global_step=global_step)\n",
    "    writer.close()\n",
    "\n",
    "# 모든 정밀도-재현율(precision-recall; pr) 곡선을 그립니다\n",
    "for i in range(len(classes)):\n",
    "    add_pr_curve_tensorboard(i, test_probs, test_preds)"
   ]
  },
  {
   "cell_type": "markdown",
   "id": "d32e7af1",
   "metadata": {},
   "source": [
    "이제 “PR Curves” 탭에서 각 분류별 정밀도-재현율 곡선을 볼 수 있습니다. 내려보면서 살펴보십시오; 일부 분류는 거의 100%의 “영역이 곡선 아래”에 있고, 다른 분류들은 이 영역이 더 적습니다:"
   ]
  },
  {
   "cell_type": "code",
   "execution_count": 13,
   "id": "ba80926b",
   "metadata": {
    "ExecuteTime": {
     "end_time": "2021-06-03T08:27:20.209630Z",
     "start_time": "2021-06-03T05:47:01.731897Z"
    }
   },
   "outputs": [
    {
     "name": "stdout",
     "output_type": "stream",
     "text": [
      "2021-06-03 14:47:02.578012: I tensorflow/stream_executor/platform/default/dso_loader.cc:48] Successfully opened dynamic library libcudart.so.10.1\n",
      "W0603 14:47:03.723606 140167379261184 plugin_event_accumulator.py:322] Found more than one graph event per run, or there was a metagraph containing a graph_def, as well as one or more graph events.  Overwriting the graph with the newest event.\n",
      "W0603 14:47:03.723771 140167379261184 plugin_event_accumulator.py:361] Found more than one \"run metadata\" event with tag step1. Overwriting it with the newest event.\n",
      "W0603 14:47:03.724331 140167379261184 plugin_event_accumulator.py:322] Found more than one graph event per run, or there was a metagraph containing a graph_def, as well as one or more graph events.  Overwriting the graph with the newest event.\n",
      "W0603 14:47:03.724434 140167379261184 plugin_event_accumulator.py:361] Found more than one \"run metadata\" event with tag step1. Overwriting it with the newest event.\n",
      "W0603 14:47:03.725742 140167379261184 plugin_event_accumulator.py:322] Found more than one graph event per run, or there was a metagraph containing a graph_def, as well as one or more graph events.  Overwriting the graph with the newest event.\n",
      "W0603 14:47:03.725864 140167379261184 plugin_event_accumulator.py:361] Found more than one \"run metadata\" event with tag step1. Overwriting it with the newest event.\n",
      "W0603 14:47:03.727300 140167379261184 plugin_event_accumulator.py:322] Found more than one graph event per run, or there was a metagraph containing a graph_def, as well as one or more graph events.  Overwriting the graph with the newest event.\n",
      "W0603 14:47:03.727419 140167379261184 plugin_event_accumulator.py:361] Found more than one \"run metadata\" event with tag step1. Overwriting it with the newest event.\n",
      "W0603 14:47:03.740731 140167379261184 plugin_event_accumulator.py:322] Found more than one graph event per run, or there was a metagraph containing a graph_def, as well as one or more graph events.  Overwriting the graph with the newest event.\n",
      "W0603 14:47:03.740890 140167379261184 plugin_event_accumulator.py:361] Found more than one \"run metadata\" event with tag step1. Overwriting it with the newest event.\n",
      "Serving TensorBoard on localhost; to expose to the network, use a proxy or pass --bind_all\n",
      "TensorBoard 2.4.1 at http://localhost:6006/ (Press CTRL+C to quit)\n",
      "^C\n"
     ]
    }
   ],
   "source": [
    "! tensorboard --logdir=runs"
   ]
  },
  {
   "cell_type": "code",
   "execution_count": null,
   "id": "c18b4a84",
   "metadata": {},
   "outputs": [],
   "source": []
  }
 ],
 "metadata": {
  "kernelspec": {
   "display_name": "aiffel",
   "language": "python",
   "name": "aiffel"
  },
  "language_info": {
   "codemirror_mode": {
    "name": "ipython",
    "version": 3
   },
   "file_extension": ".py",
   "mimetype": "text/x-python",
   "name": "python",
   "nbconvert_exporter": "python",
   "pygments_lexer": "ipython3",
   "version": "3.7.9"
  },
  "toc": {
   "base_numbering": 1,
   "nav_menu": {},
   "number_sections": true,
   "sideBar": true,
   "skip_h1_title": false,
   "title_cell": "Table of Contents",
   "title_sidebar": "Contents",
   "toc_cell": false,
   "toc_position": {},
   "toc_section_display": true,
   "toc_window_display": false
  },
  "varInspector": {
   "cols": {
    "lenName": 16,
    "lenType": 16,
    "lenVar": 40
   },
   "kernels_config": {
    "python": {
     "delete_cmd_postfix": "",
     "delete_cmd_prefix": "del ",
     "library": "var_list.py",
     "varRefreshCmd": "print(var_dic_list())"
    },
    "r": {
     "delete_cmd_postfix": ") ",
     "delete_cmd_prefix": "rm(",
     "library": "var_list.r",
     "varRefreshCmd": "cat(var_dic_list()) "
    }
   },
   "types_to_exclude": [
    "module",
    "function",
    "builtin_function_or_method",
    "instance",
    "_Feature"
   ],
   "window_display": false
  }
 },
 "nbformat": 4,
 "nbformat_minor": 5
}
